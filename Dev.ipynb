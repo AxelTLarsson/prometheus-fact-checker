{
 "cells": [
  {
   "cell_type": "code",
   "execution_count": 1,
   "metadata": {
    "collapsed": true,
    "deletable": true,
    "editable": true
   },
   "outputs": [],
   "source": [
    "import json\n",
    "import requests\n",
    "import glob"
   ]
  },
  {
   "cell_type": "code",
   "execution_count": 2,
   "metadata": {
    "collapsed": false,
    "deletable": true,
    "editable": true
   },
   "outputs": [
    {
     "data": {
      "text/plain": [
       "[{'obj': 'Q13133',\n",
       "  'predictedPredicate': 'P26',\n",
       "  'probability': '0.99',\n",
       "  'sentence': 'bla bla',\n",
       "  'source': 'the user page',\n",
       "  'subject': 'Q76'},\n",
       " {'obj': 'Q13133',\n",
       "  'predictedPredicate': 'P26',\n",
       "  'probability': '0.80',\n",
       "  'sentence': 'another sentence',\n",
       "  'source': 'the user page',\n",
       "  'subject': 'Q76'},\n",
       " {'obj': 'Q234',\n",
       "  'predictedPredicate': 'P19',\n",
       "  'probability': '0.3',\n",
       "  'sentence': 'unrelated',\n",
       "  'source': 'hej',\n",
       "  'subject': 'Q76'},\n",
       " {'obj': 'Q234',\n",
       "  'predictedPredicate': 'P19',\n",
       "  'probability': '0.45',\n",
       "  'sentence': 'unrelated 2',\n",
       "  'source': 'hej 2',\n",
       "  'subject': 'Q76'},\n",
       " {'obj': 'Q11696',\n",
       "  'predictedPredicate': 'P26',\n",
       "  'probability': 0.8461098093518024,\n",
       "  'sentence': 'barack is married to his job',\n",
       "  'source': 'urn:wikidata:Q76',\n",
       "  'subject': 'Q76'}]"
      ]
     },
     "execution_count": 2,
     "metadata": {},
     "output_type": "execute_result"
    }
   ],
   "source": [
    "relations = json.loads('[{ \"subject\": \"Q76\", \"predictedPredicate\": \"P26\", \"obj\": \"Q13133\", \"sentence\": \"bla bla\", \"source\": \"the user page\", \"probability\": \"0.99\" }]')    \n",
    "\n",
    "relations[0]['subject']\n",
    "relations.append({\"subject\": \"Q76\", \"predictedPredicate\": \"P26\", \"obj\": \"Q13133\", \"sentence\": \"another sentence\", \"source\": \"the user page\", \"probability\": \"0.80\" })\n",
    "relations.append({\"subject\": \"Q76\", \"predictedPredicate\": \"P19\", \"obj\": \"Q234\", \"sentence\": \"unrelated\", \"source\":\"hej\", \"probability\": \"0.3\"})\n",
    "relations.append({\"subject\": \"Q76\", \"predictedPredicate\": \"P19\", \"obj\": \"Q234\", \"sentence\": \"unrelated 2\", \"source\":\"hej 2\", \"probability\": \"0.45\"})\n",
    "relations.append({'subject': 'Q76', 'predictedPredicate': 'P26', 'obj': 'Q11696', 'sentence': \"barack is married to his job\", 'source': 'urn:wikidata:Q76', 'probability': 0.8461098093518024})\n",
    "relations"
   ]
  },
  {
   "cell_type": "code",
   "execution_count": 3,
   "metadata": {
    "collapsed": true
   },
   "outputs": [],
   "source": [
    "data_cache = []"
   ]
  },
  {
   "cell_type": "code",
   "execution_count": 20,
   "metadata": {
    "collapsed": false,
    "deletable": true,
    "editable": true
   },
   "outputs": [],
   "source": [
    "def check_relation(relation):\n",
    "    sub = relation['subject']\n",
    "    obj = relation['obj']\n",
    "    pred = relation['predictedPredicate']\n",
    "\n",
    "    if not data_cache:\n",
    "        # read data\n",
    "        files = glob.glob(\"extractions/part-*\")\n",
    "        for path in files:\n",
    "            with open(path) as file:\n",
    "                lines = file.readlines()\n",
    "                data_cache.extend([json.loads(l) for l in lines])\n",
    "    matches = [match for match in data_cache if match['predictedPredicate'] == pred and match['subject'] == sub]\n",
    "    \n",
    "    if len(matches) == 0:\n",
    "        return (\"unknown\", [])\n",
    "    \n",
    "    for match in matches:\n",
    "        if match['obj'] == obj:\n",
    "            # found one match, the relation is considered True\n",
    "            return (\"verified\", [match])\n",
    "\n",
    "    return (\"conflicting\", matches)"
   ]
  },
  {
   "cell_type": "code",
   "execution_count": 22,
   "metadata": {
    "collapsed": false
   },
   "outputs": [],
   "source": [
    "# group extracted relations together\n",
    "def keyfunc(relation):\n",
    "    return (relation['subject'], relation['predictedPredicate'], relation['obj'])\n",
    "from itertools import groupby\n",
    "extractions = []\n",
    "uniquekeys = []\n",
    "data = sorted(relations, key=keyfunc)\n",
    "for k, g in groupby(data, keyfunc):\n",
    "    extractions.append(list(g))      # Store group iterator as a list\n",
    "    uniquekeys.append(k)"
   ]
  },
  {
   "cell_type": "code",
   "execution_count": 23,
   "metadata": {
    "collapsed": true
   },
   "outputs": [],
   "source": [
    "cache = {}\n",
    "def label_for(q):\n",
    "    q = q.upper()\n",
    "    if q in cache:\n",
    "        return cache[q]\n",
    "    url = 'https://www.wikidata.org/w/api.php?action=wbgetentities&props=labels&ids=%s&languages=en&format=json' % q\n",
    "    resp = requests.get(url)\n",
    "    v = resp.json()['entities'][q]['labels']['en']['value']\n",
    "    cache[q] = v\n",
    "    return v"
   ]
  },
  {
   "cell_type": "code",
   "execution_count": 26,
   "metadata": {
    "collapsed": false,
    "scrolled": true
   },
   "outputs": [
    {
     "name": "stdout",
     "output_type": "stream",
     "text": [
      "{'subject': 'Q76', 'predictedPredicate': 'P19', 'obj': 'Q234', 'sentence': 'unrelated', 'source': 'hej', 'probability': '0.3'}\n",
      "('unknown', [])\n",
      "{'subject': 'Q76', 'predictedPredicate': 'P26', 'obj': 'Q11696', 'sentence': 'barack is married to his job', 'source': 'urn:wikidata:Q76', 'probability': 0.8461098093518024}\n",
      "('unknown', [])\n",
      "{'subject': 'Q76', 'predictedPredicate': 'P26', 'obj': 'Q13133', 'sentence': 'bla bla', 'source': 'the user page', 'probability': '0.99'}\n",
      "('unknown', [])\n"
     ]
    },
    {
     "data": {
      "text/plain": [
       "[{'evidence': [],\n",
       "  'object': {'link': 'https://www.wikidata.org/wiki/Q234',\n",
       "   'name': 'Flemish Region'},\n",
       "  'predicate': {'link': 'https://www.wikidata.org/wiki/P19',\n",
       "   'name': 'place of birth'},\n",
       "  'sentences': ['unrelated', 'unrelated 2'],\n",
       "  'subject': {'link': 'https://www.wikidata.org/wiki/Q76',\n",
       "   'name': 'Barack Obama'},\n",
       "  'type': 'unknown'},\n",
       " {'evidence': [],\n",
       "  'object': {'link': 'https://www.wikidata.org/wiki/Q11696',\n",
       "   'name': 'President of the United States of America'},\n",
       "  'predicate': {'link': 'https://www.wikidata.org/wiki/P26', 'name': 'spouse'},\n",
       "  'sentences': ['barack is married to his job'],\n",
       "  'subject': {'link': 'https://www.wikidata.org/wiki/Q76',\n",
       "   'name': 'Barack Obama'},\n",
       "  'type': 'unknown'},\n",
       " {'evidence': [],\n",
       "  'object': {'link': 'https://www.wikidata.org/wiki/Q13133',\n",
       "   'name': 'Michelle Obama'},\n",
       "  'predicate': {'link': 'https://www.wikidata.org/wiki/P26', 'name': 'spouse'},\n",
       "  'sentences': ['bla bla', 'another sentence'],\n",
       "  'subject': {'link': 'https://www.wikidata.org/wiki/Q76',\n",
       "   'name': 'Barack Obama'},\n",
       "  'type': 'unknown'}]"
      ]
     },
     "execution_count": 26,
     "metadata": {},
     "output_type": "execute_result"
    }
   ],
   "source": [
    "def link_for(q):\n",
    "    return f\"https://www.wikidata.org/wiki/{q}\"\n",
    "def wiki_link_for(name):\n",
    "    name_quoted = name_quoated.replace(\" \", \"_\")\n",
    "    return f\"https://en.wikipedia.org/wiki/{name_quoted}\"\n",
    "\n",
    "results = []\n",
    "# result will have structure: [(('labelQ1', 'labelP', 'labelQ2'))]\n",
    "\n",
    "def trim_evidence(evidence):\n",
    "    name = evidence['source'].split(\":\")\n",
    "\n",
    "    if len(name) == 3:\n",
    "        name = name[2]\n",
    "    else:\n",
    "        name = \"\"\n",
    "        \n",
    "    return {\n",
    "        'subject': label_for(evidence['subject']),\n",
    "        'object': label_for(evidence['obj']),\n",
    "        'predicate': label_for(evidence['predictedPredicate']),\n",
    "        'snippet': label_for(evidence['sentence']),\n",
    "        'link': wiki_link_for(label_for(name))\n",
    "    }\n",
    "\n",
    "for extraction in extractions:\n",
    "    # only check once per actual relation\n",
    "    print(extraction[0])\n",
    "    evidence = check_relation(extraction[0])\n",
    "    print(evidence)\n",
    "    result = {}\n",
    "    result['subject'] = {\n",
    "        'name': label_for(extraction[0]['subject']),\n",
    "        'link': link_for(extraction[0]['subject'])\n",
    "    }\n",
    "    result['object'] = {\n",
    "        'name': label_for(extraction[0]['obj']),\n",
    "        'link': link_for(extraction[0]['obj'])\n",
    "    }\n",
    "    result['predicate'] = {\n",
    "        'name': label_for(extraction[0]['predictedPredicate']),\n",
    "        'link': link_for(extraction[0]['predictedPredicate'])\n",
    "    }\n",
    "    result['sentences'] = list(map(lambda r: r['sentence'], extraction))\n",
    "    result['type'] = evidence[0]\n",
    "    for match in evidence[1]:\n",
    "        match['subject'] = label_for(match['subject'])\n",
    "        match['predictedPredicate'] = label_for(match['predictedPredicate'])\n",
    "        match['obj'] = label_for(match['obj'])\n",
    "\n",
    "    result['evidence'] = list(map(lambda evidence: trim_evidence(evidence), evidence[1])) \n",
    "    \n",
    "    results.append(result)\n",
    "\n",
    "results"
   ]
  },
  {
   "cell_type": "code",
   "execution_count": 25,
   "metadata": {
    "collapsed": false
   },
   "outputs": [
    {
     "ename": "SyntaxError",
     "evalue": "invalid syntax (<ipython-input-25-e8850d4d6484>, line 10)",
     "output_type": "error",
     "traceback": [
      "\u001b[0;36m  File \u001b[0;32m\"<ipython-input-25-e8850d4d6484>\"\u001b[0;36m, line \u001b[0;32m10\u001b[0m\n\u001b[0;31m    'object': {\u001b[0m\n\u001b[0m           ^\u001b[0m\n\u001b[0;31mSyntaxError\u001b[0m\u001b[0;31m:\u001b[0m invalid syntax\n"
     ]
    }
   ],
   "source": [
    "{\n",
    "    'subject': {\n",
    "      'name': 'Barack Obama',\n",
    "      'link': 'https://www.wikidata.org/wiki/Q76'\n",
    "    },\n",
    "    'predicate': {\n",
    "      'name': 'Married',\n",
    "      'link': 'https://www.wikidata.org/wiki/Property:P26'\n",
    "    }\n",
    "    'object': {\n",
    "      'name': 'Michelle Obama',\n",
    "      'link': 'https://www.wikidata.org/wiki/Q13133'\n",
    "    }\n",
    "    'sentences': [\n",
    "      'Barack married his wife Michelle'\n",
    "    ]\n",
    "    'type': 'verified',\n",
    "    'evidence': {\n",
    "      'source': 'Wikipedia',\n",
    "      'source_link': 'http://en.wikipedia.org/wiki/Obama',\n",
    "      'snippet': 'Obama married Michelle.'\n",
    "    }\n",
    "  }]"
   ]
  },
  {
   "cell_type": "code",
   "execution_count": null,
   "metadata": {
    "collapsed": true
   },
   "outputs": [],
   "source": []
  }
 ],
 "metadata": {
  "kernelspec": {
   "display_name": "Python 3",
   "language": "python",
   "name": "python3"
  },
  "language_info": {
   "codemirror_mode": {
    "name": "ipython",
    "version": 3
   },
   "file_extension": ".py",
   "mimetype": "text/x-python",
   "name": "python",
   "nbconvert_exporter": "python",
   "pygments_lexer": "ipython3",
   "version": "3.6.1"
  }
 },
 "nbformat": 4,
 "nbformat_minor": 2
}
